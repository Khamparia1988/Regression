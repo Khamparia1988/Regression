{
 "cells": [
  {
   "cell_type": "markdown",
   "metadata": {},
   "source": [
    "# Turning a linear regression model into a curve of polynomial regression\n"
   ]
  },
  {
   "cell_type": "markdown",
   "metadata": {},
   "source": [
    "# Adding polynomial terms using scikit-learn\n",
    "We will now learn how to use the transformer class from\n",
    "scikit-learn to add a quadratic term (d=2) to a simple regression problem with one\n",
    "explanatory variable."
   ]
  },
  {
   "cell_type": "code",
   "execution_count": 9,
   "metadata": {
    "collapsed": true
   },
   "outputs": [],
   "source": [
    "import numpy as np\n",
    "from sklearn.linear_model import LinearRegression\n",
    "from sklearn.preprocessing import PolynomialFeatures\n",
    "X=np.array([258,270,294,320,342,368,396,446,480,586])[:,np.newaxis]\n",
    "y=np.array([236.4,234.4,252.8,298.6,314.2,342.2,360.8,368,391.2,\n",
    "            390.8])\n",
    "lr=LinearRegression()\n",
    "pr=LinearRegression()\n",
    "quadratic=PolynomialFeatures(degree=2)\n",
    "X_quad=quadratic.fit_transform(X)"
   ]
  },
  {
   "cell_type": "markdown",
   "metadata": {},
   "source": [
    "# Fit a multiple regression model on the transformed features for LIear & polynomial regression:"
   ]
  },
  {
   "cell_type": "code",
   "execution_count": 10,
   "metadata": {
    "collapsed": true
   },
   "outputs": [],
   "source": [
    "lr.fit(X,y)\n",
    "pr.fit(X_quad,y)\n",
    "## Create a data X_fit\n",
    "X_fit=np.arange(250,600,10)[:,np.newaxis]\n",
    "y_lin_fit=lr.predict(X_fit)\n",
    "y_quad_fit=pr.predict(quadratic.fit_transform(X_fit))"
   ]
  },
  {
   "cell_type": "markdown",
   "metadata": {},
   "source": [
    "# Plot the result\n",
    "In the resulting plot,we can see that the polynomial fit captures the relationship between the response and explanatory variable much better than the linear."
   ]
  },
  {
   "cell_type": "code",
   "execution_count": 11,
   "metadata": {},
   "outputs": [
    {
     "data": {
      "image/png": "[encoded data removed]",
      "text/plain": [
       "<Figure size 432x288 with 1 Axes>"
      ]
     },
     "metadata": {},
     "output_type": "display_data"
    }
   ],
   "source": [
    "from matplotlib import pyplot as plt\n",
    "plt.scatter(X,y,label='training points')\n",
    "plt.plot(X_fit,y_lin_fit,label='linear fit',linestyle='--')\n",
    "plt.plot(X_fit,y_quad_fit,label='quadratic fit')\n",
    "plt.legend(loc='upper left')\n",
    "plt.show()"
   ]
  },
  {
   "cell_type": "markdown",
   "metadata": {},
   "source": [
    "# Compare Performance Metrics"
   ]
  },
  {
   "cell_type": "code",
   "execution_count": 12,
   "metadata": {},
   "outputs": [
    {
     "name": "stdout",
     "output_type": "stream",
     "text": [
      "Training MSE linear: 569.780, quadratic:61.330\n",
      "Training R^2 linear: 0.832, quadratic:0.982\n"
     ]
    }
   ],
   "source": [
    "y_lin_pred=lr.predict(X)\n",
    "y_quad_pred=pr.predict(X_quad)\n",
    "from sklearn.metrics import r2_score\n",
    "from sklearn.metrics import mean_squared_error\n",
    "print('Training MSE linear: %.3f, quadratic:%.3f'%\n",
    "      (mean_squared_error(y,y_lin_pred),\n",
    "       mean_squared_error(y,y_quad_pred)))\n",
    "print('Training R^2 linear: %.3f, quadratic:%.3f'%\n",
    "      (r2_score(y,y_lin_pred),\n",
    "       r2_score(y,y_quad_pred)))"
   ]
  }
 ],
 "metadata": {
  "kernelspec": {
   "display_name": "Python 3",
   "language": "python",
   "name": "python3"
  },
  "language_info": {
   "codemirror_mode": {
    "name": "ipython",
    "version": 3
   },
   "file_extension": ".py",
   "mimetype": "text/x-python",
   "name": "python",
   "nbconvert_exporter": "python",
   "pygments_lexer": "ipython3",
   "version": "3.6.6"
  }
 },
 "nbformat": 4,
 "nbformat_minor": 2
}
